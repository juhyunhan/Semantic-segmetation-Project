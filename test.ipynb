{
 "cells": [
  {
   "cell_type": "code",
   "execution_count": 2,
   "metadata": {},
   "outputs": [
    {
     "name": "stderr",
     "output_type": "stream",
     "text": [
      "c:\\Users\\hjjh2\\anaconda3\\envs\\pytorch\\lib\\site-packages\\tqdm\\auto.py:21: TqdmWarning: IProgress not found. Please update jupyter and ipywidgets. See https://ipywidgets.readthedocs.io/en/stable/user_install.html\n",
      "  from .autonotebook import tqdm as notebook_tqdm\n"
     ]
    }
   ],
   "source": [
    "from data.build_loader import build_dataloader"
   ]
  },
  {
   "cell_type": "code",
   "execution_count": 3,
   "metadata": {},
   "outputs": [],
   "source": [
    "data_dir = \"../cv-project/MEDICAL/MEDICAL-DATASET-001/Segmentation/\"\n",
    "dataloader = build_dataloader(data_dir)"
   ]
  },
  {
   "cell_type": "code",
   "execution_count": 4,
   "metadata": {},
   "outputs": [],
   "source": [
    "data_iter = iter(dataloader[\"train\"])\n",
    "images, targets = next(data_iter)"
   ]
  },
  {
   "cell_type": "code",
   "execution_count": 5,
   "metadata": {},
   "outputs": [
    {
     "data": {
      "text/plain": [
       "(torch.Size([4, 3, 224, 224]), torch.Size([4, 224, 224]))"
      ]
     },
     "execution_count": 5,
     "metadata": {},
     "output_type": "execute_result"
    }
   ],
   "source": [
    "images.shape, targets.shape #plt로 찍어봐도딤"
   ]
  },
  {
   "cell_type": "code",
   "execution_count": 6,
   "metadata": {},
   "outputs": [],
   "source": [
    "from models.u_net import UNet"
   ]
  },
  {
   "cell_type": "code",
   "execution_count": 7,
   "metadata": {},
   "outputs": [],
   "source": [
    "unet = UNet(num_classes=4)"
   ]
  },
  {
   "cell_type": "code",
   "execution_count": 8,
   "metadata": {},
   "outputs": [
    {
     "data": {
      "text/plain": [
       "UNet(\n",
       "  (encoder): Encoder(\n",
       "    (conv_block1): Sequential(\n",
       "      (0): Conv2d(3, 64, kernel_size=(3, 3), stride=(1, 1), padding=(1, 1))\n",
       "      (1): BatchNorm2d(64, eps=1e-05, momentum=0.1, affine=True, track_running_stats=True)\n",
       "      (2): ReLU(inplace=True)\n",
       "      (3): Conv2d(64, 64, kernel_size=(3, 3), stride=(1, 1), padding=(1, 1))\n",
       "      (4): BatchNorm2d(64, eps=1e-05, momentum=0.1, affine=True, track_running_stats=True)\n",
       "      (5): ReLU(inplace=True)\n",
       "    )\n",
       "    (conv_block2): Sequential(\n",
       "      (0): Conv2d(64, 128, kernel_size=(3, 3), stride=(1, 1), padding=(1, 1))\n",
       "      (1): BatchNorm2d(128, eps=1e-05, momentum=0.1, affine=True, track_running_stats=True)\n",
       "      (2): ReLU(inplace=True)\n",
       "      (3): Conv2d(128, 128, kernel_size=(3, 3), stride=(1, 1), padding=(1, 1))\n",
       "      (4): BatchNorm2d(128, eps=1e-05, momentum=0.1, affine=True, track_running_stats=True)\n",
       "      (5): ReLU(inplace=True)\n",
       "    )\n",
       "    (conv_block3): Sequential(\n",
       "      (0): Conv2d(128, 256, kernel_size=(3, 3), stride=(1, 1), padding=(1, 1))\n",
       "      (1): BatchNorm2d(256, eps=1e-05, momentum=0.1, affine=True, track_running_stats=True)\n",
       "      (2): ReLU(inplace=True)\n",
       "      (3): Conv2d(256, 256, kernel_size=(3, 3), stride=(1, 1), padding=(1, 1))\n",
       "      (4): BatchNorm2d(256, eps=1e-05, momentum=0.1, affine=True, track_running_stats=True)\n",
       "      (5): ReLU(inplace=True)\n",
       "    )\n",
       "    (conv_block4): Sequential(\n",
       "      (0): Conv2d(256, 512, kernel_size=(3, 3), stride=(1, 1), padding=(1, 1))\n",
       "      (1): BatchNorm2d(512, eps=1e-05, momentum=0.1, affine=True, track_running_stats=True)\n",
       "      (2): ReLU(inplace=True)\n",
       "      (3): Conv2d(512, 512, kernel_size=(3, 3), stride=(1, 1), padding=(1, 1))\n",
       "      (4): BatchNorm2d(512, eps=1e-05, momentum=0.1, affine=True, track_running_stats=True)\n",
       "      (5): ReLU(inplace=True)\n",
       "    )\n",
       "    (conv_block5): Sequential(\n",
       "      (0): Conv2d(512, 1024, kernel_size=(3, 3), stride=(1, 1), padding=(1, 1))\n",
       "      (1): BatchNorm2d(1024, eps=1e-05, momentum=0.1, affine=True, track_running_stats=True)\n",
       "      (2): ReLU(inplace=True)\n",
       "      (3): Conv2d(1024, 1024, kernel_size=(3, 3), stride=(1, 1), padding=(1, 1))\n",
       "      (4): BatchNorm2d(1024, eps=1e-05, momentum=0.1, affine=True, track_running_stats=True)\n",
       "      (5): ReLU(inplace=True)\n",
       "    )\n",
       "    (pool): MaxPool2d(kernel_size=2, stride=2, padding=0, dilation=1, ceil_mode=False)\n",
       "  )\n",
       "  (decoder): Decoder(\n",
       "    (upconv_layer1): Sequential(\n",
       "      (0): ConvTranspose2d(1024, 512, kernel_size=(2, 2), stride=(2, 2))\n",
       "      (1): BatchNorm2d(512, eps=1e-05, momentum=0.1, affine=True, track_running_stats=True)\n",
       "      (2): ReLU(inplace=True)\n",
       "    )\n",
       "    (conv_block1): Sequential(\n",
       "      (0): Conv2d(1024, 512, kernel_size=(3, 3), stride=(1, 1), padding=(1, 1))\n",
       "      (1): BatchNorm2d(512, eps=1e-05, momentum=0.1, affine=True, track_running_stats=True)\n",
       "      (2): ReLU(inplace=True)\n",
       "      (3): Conv2d(512, 512, kernel_size=(3, 3), stride=(1, 1), padding=(1, 1))\n",
       "      (4): BatchNorm2d(512, eps=1e-05, momentum=0.1, affine=True, track_running_stats=True)\n",
       "      (5): ReLU(inplace=True)\n",
       "    )\n",
       "    (upconv_layer2): Sequential(\n",
       "      (0): ConvTranspose2d(512, 256, kernel_size=(2, 2), stride=(2, 2))\n",
       "      (1): BatchNorm2d(256, eps=1e-05, momentum=0.1, affine=True, track_running_stats=True)\n",
       "      (2): ReLU(inplace=True)\n",
       "    )\n",
       "    (conv_block2): Sequential(\n",
       "      (0): Conv2d(512, 256, kernel_size=(3, 3), stride=(1, 1), padding=(1, 1))\n",
       "      (1): BatchNorm2d(256, eps=1e-05, momentum=0.1, affine=True, track_running_stats=True)\n",
       "      (2): ReLU(inplace=True)\n",
       "      (3): Conv2d(256, 256, kernel_size=(3, 3), stride=(1, 1), padding=(1, 1))\n",
       "      (4): BatchNorm2d(256, eps=1e-05, momentum=0.1, affine=True, track_running_stats=True)\n",
       "      (5): ReLU(inplace=True)\n",
       "    )\n",
       "    (upconv_layer3): Sequential(\n",
       "      (0): ConvTranspose2d(256, 128, kernel_size=(2, 2), stride=(2, 2))\n",
       "      (1): BatchNorm2d(128, eps=1e-05, momentum=0.1, affine=True, track_running_stats=True)\n",
       "      (2): ReLU(inplace=True)\n",
       "    )\n",
       "    (conv_block3): Sequential(\n",
       "      (0): Conv2d(256, 128, kernel_size=(3, 3), stride=(1, 1), padding=(1, 1))\n",
       "      (1): BatchNorm2d(128, eps=1e-05, momentum=0.1, affine=True, track_running_stats=True)\n",
       "      (2): ReLU(inplace=True)\n",
       "      (3): Conv2d(128, 128, kernel_size=(3, 3), stride=(1, 1), padding=(1, 1))\n",
       "      (4): BatchNorm2d(128, eps=1e-05, momentum=0.1, affine=True, track_running_stats=True)\n",
       "      (5): ReLU(inplace=True)\n",
       "    )\n",
       "    (upconv_layer4): Sequential(\n",
       "      (0): ConvTranspose2d(128, 64, kernel_size=(2, 2), stride=(2, 2))\n",
       "      (1): BatchNorm2d(64, eps=1e-05, momentum=0.1, affine=True, track_running_stats=True)\n",
       "      (2): ReLU(inplace=True)\n",
       "    )\n",
       "    (conv_block4): Sequential(\n",
       "      (0): Conv2d(128, 64, kernel_size=(3, 3), stride=(1, 1), padding=(1, 1))\n",
       "      (1): BatchNorm2d(64, eps=1e-05, momentum=0.1, affine=True, track_running_stats=True)\n",
       "      (2): ReLU(inplace=True)\n",
       "      (3): Conv2d(64, 64, kernel_size=(3, 3), stride=(1, 1), padding=(1, 1))\n",
       "      (4): BatchNorm2d(64, eps=1e-05, momentum=0.1, affine=True, track_running_stats=True)\n",
       "      (5): ReLU(inplace=True)\n",
       "    )\n",
       "  )\n",
       "  (head): Conv2d(64, 4, kernel_size=(1, 1), stride=(1, 1))\n",
       ")"
      ]
     },
     "execution_count": 8,
     "metadata": {},
     "output_type": "execute_result"
    }
   ],
   "source": [
    "unet"
   ]
  },
  {
   "cell_type": "code",
   "execution_count": 9,
   "metadata": {},
   "outputs": [],
   "source": [
    "import torch"
   ]
  },
  {
   "cell_type": "code",
   "execution_count": 10,
   "metadata": {},
   "outputs": [
    {
     "name": "stdout",
     "output_type": "stream",
     "text": [
      "input shape: torch.Size([1, 3, 224, 224])\n",
      "output shape: torch.Size([1, 4, 224, 224])\n"
     ]
    }
   ],
   "source": [
    "model = UNet(num_classes=4)\n",
    "x = torch.randn(1, 3, 224, 224)\n",
    "out = model(x)\n",
    "print(f\"input shape: {x.shape}\")\n",
    "print(f\"output shape: {out.shape}\")"
   ]
  },
  {
   "cell_type": "markdown",
   "metadata": {},
   "source": []
  },
  {
   "cell_type": "code",
   "execution_count": 11,
   "metadata": {},
   "outputs": [],
   "source": [
    "import torch.nn as nn\n",
    "import torch.nn.functional as F\n",
    "\n",
    "class UNet_metric(): \n",
    "    def __init__(self, num_classes):\n",
    "        self.num_classes = num_classes\n",
    "        \n",
    "    def __call__(self, pred, target):\n",
    "        onehot_pred = F.one_hot(torch.argmax(pred, dim=1), num_classes=self.num_classes).permute(0, 3, 1, 2)\n",
    "        onehot_target = F.one_hot(target, num_classes=self.num_classes).permute(0, 3, 1, 2)\n",
    "        dice_loss = self._get_dice_loss(onehot_pred, onehot_target)\n",
    "        dice_coefficient = self._get_batch_dice_coefficient(onehot_pred, onehot_target)\n",
    "        return dice_loss, dice_coefficient\n",
    "    \n",
    "    def _get_dice_coeffient(self, pred, target):\n",
    "        set_inter = torch.dot(pred.reshape(-1).float(), target.reshape(-1).float())\n",
    "        set_sum = pred.sum() + target.sum()\n",
    "        if set_sum.item() == 0:\n",
    "            set_sum = 2 * set_inter\n",
    "        dice_coeff = (2 * set_inter) / (set_sum + 1e-9)\n",
    "        return dice_coeff\n",
    "    \n",
    "    def _get_multiclass_dice_coefficient(self, pred, target):\n",
    "        dice = 0\n",
    "        for class_index in range(1, self.num_classes):\n",
    "            dice += self._get_dice_coeffient(pred[class_index], target[class_index])\n",
    "        return dice / (self.num_classes - 1)\n",
    "    \n",
    "    def _get_batch_dice_coefficient(self, pred, target):\n",
    "        num_batch = pred.shape[0]\n",
    "        dice = 0\n",
    "        for batch_index in range(num_batch):\n",
    "            dice += self._get_multiclass_dice_coefficient(pred[batch_index], target[batch_index])\n",
    "        return dice / num_batch\n",
    "    \n",
    "    def _get_dice_loss(self, pred, target):\n",
    "        return 1 - self._get_batch_dice_coefficient(pred, target)"
   ]
  },
  {
   "cell_type": "code",
   "execution_count": 12,
   "metadata": {},
   "outputs": [],
   "source": [
    "criterion = UNet_metric(num_classes=4)"
   ]
  },
  {
   "cell_type": "code",
   "execution_count": 13,
   "metadata": {},
   "outputs": [],
   "source": [
    "pred = model(images)\n",
    "loss, dice_coef = criterion(pred, targets)"
   ]
  },
  {
   "cell_type": "code",
   "execution_count": 14,
   "metadata": {},
   "outputs": [
    {
     "name": "stdout",
     "output_type": "stream",
     "text": [
      "tensor([[[[-5.8602e-01, -7.4348e-01, -6.5285e-01,  ..., -7.0046e-01,\n",
      "           -3.5558e-01, -5.8511e-01],\n",
      "          [-4.0531e-01, -8.2851e-01, -5.5545e-01,  ..., -4.2105e-01,\n",
      "           -4.9174e-01, -8.9817e-01],\n",
      "          [-2.5451e-02, -2.5596e-01, -1.8742e-01,  ...,  1.2177e-02,\n",
      "           -1.0068e+00, -5.4857e-01],\n",
      "          ...,\n",
      "          [-8.4110e-01, -1.1120e+00, -2.7378e-01,  ...,  3.9139e-01,\n",
      "           -5.0562e-01, -1.1774e+00],\n",
      "          [-8.0285e-01, -5.4841e-01, -9.6537e-01,  ...,  3.9413e-01,\n",
      "           -1.5202e+00, -5.6104e-01],\n",
      "          [-9.3878e-01, -5.1638e-01, -8.6002e-01,  ..., -2.0323e-01,\n",
      "           -4.6141e-02, -1.2665e+00]],\n",
      "\n",
      "         [[ 4.8472e-01,  4.2805e-01,  7.7120e-01,  ...,  1.0628e+00,\n",
      "            1.2923e+00,  1.1487e+00],\n",
      "          [ 6.5095e-01, -3.1714e-01,  4.4317e-01,  ...,  1.6094e+00,\n",
      "            1.0750e+00,  9.1753e-01],\n",
      "          [ 9.6838e-01, -9.7852e-02,  1.0824e+00,  ...,  1.1854e+00,\n",
      "            1.0457e+00,  2.0669e+00],\n",
      "          ...,\n",
      "          [ 6.5147e-01,  8.2756e-01,  1.4474e+00,  ...,  2.2437e+00,\n",
      "            1.5151e+00,  1.3892e+00],\n",
      "          [ 1.2337e+00,  1.6532e-01, -1.4680e-01,  ...,  1.1739e+00,\n",
      "            1.0589e+00,  1.4753e+00],\n",
      "          [ 6.8126e-01,  4.4317e-01,  1.1086e+00,  ...,  8.2144e-01,\n",
      "            6.0137e-01,  8.7626e-01]],\n",
      "\n",
      "         [[-2.8990e-01,  6.0571e-02, -4.2394e-01,  ..., -1.4444e-01,\n",
      "           -1.1433e-01,  2.5330e-01],\n",
      "          [-1.2957e-01,  7.9287e-02,  4.9730e-01,  ..., -3.7684e-01,\n",
      "           -6.5141e-01, -8.8648e-02],\n",
      "          [ 2.5088e-01,  5.4335e-01, -4.6027e-02,  ...,  4.3409e-01,\n",
      "           -4.2780e-01, -3.6408e-03],\n",
      "          ...,\n",
      "          [ 3.6792e-01,  1.9818e-01,  2.9888e-01,  ...,  5.0869e-03,\n",
      "            1.6988e-01, -5.0907e-01],\n",
      "          [ 5.6382e-01,  6.1917e-01,  7.5444e-01,  ...,  1.9976e-02,\n",
      "            2.5356e-01, -6.1500e-01],\n",
      "          [-7.1091e-02, -4.8593e-01, -7.3407e-01,  ..., -7.4402e-01,\n",
      "           -7.5759e-01, -3.5499e-01]],\n",
      "\n",
      "         [[ 6.6121e-02,  1.9881e-02, -4.4980e-01,  ..., -1.3332e-01,\n",
      "            4.6095e-01,  2.0273e-02],\n",
      "          [-1.5896e-01, -5.1147e-01, -1.6142e-01,  ..., -3.8226e-03,\n",
      "           -1.3516e-01,  6.6253e-01],\n",
      "          [-1.5960e-01,  1.2291e-01,  5.5789e-01,  ...,  4.5498e-01,\n",
      "            3.3448e-02,  7.2425e-01],\n",
      "          ...,\n",
      "          [-1.9053e-01, -1.3773e-01,  5.7954e-01,  ...,  6.2855e-01,\n",
      "            5.4308e-01, -1.7084e-01],\n",
      "          [-2.7766e-01, -3.3442e-01,  7.2074e-02,  ..., -2.8306e-01,\n",
      "            5.4878e-01,  6.9496e-01],\n",
      "          [ 3.2732e-02, -6.2655e-01, -9.8432e-01,  ..., -2.3837e-01,\n",
      "           -2.1944e-01, -1.1101e-01]]],\n",
      "\n",
      "\n",
      "        [[[-1.6612e-01, -5.2102e-01, -4.2483e-01,  ..., -2.4864e-01,\n",
      "           -8.4478e-01, -8.1915e-01],\n",
      "          [-5.7602e-01, -3.2024e-01, -1.4050e-01,  ..., -1.0457e-01,\n",
      "           -9.8497e-02, -5.1008e-02],\n",
      "          [-6.6283e-01, -5.2652e-01, -5.0617e-01,  ...,  1.5175e-02,\n",
      "           -1.7471e-01, -5.4680e-01],\n",
      "          ...,\n",
      "          [-5.4435e-01, -8.2417e-02, -5.3997e-01,  ..., -1.0479e-01,\n",
      "           -5.6347e-02, -2.3971e-01],\n",
      "          [-2.0248e-01,  2.4290e-01, -1.9640e-01,  ..., -8.5187e-02,\n",
      "            4.3433e-02, -3.1100e-01],\n",
      "          [-7.5637e-01, -4.6617e-01, -3.6241e-01,  ..., -3.5456e-01,\n",
      "           -1.2576e-01, -3.1633e-01]],\n",
      "\n",
      "         [[ 6.5739e-01,  7.5558e-01,  2.9218e-01,  ...,  3.1085e-01,\n",
      "            5.3113e-01,  6.7970e-01],\n",
      "          [ 5.7557e-01,  6.4064e-01,  2.3991e-01,  ...,  6.6346e-01,\n",
      "            3.4357e-01,  1.7182e-01],\n",
      "          [ 6.1610e-01,  4.0271e-01,  6.8527e-01,  ...,  5.0828e-02,\n",
      "            2.4391e-01,  6.2957e-01],\n",
      "          ...,\n",
      "          [ 1.6118e-01,  6.0442e-01,  8.3813e-01,  ...,  8.4005e-01,\n",
      "            4.8012e-01,  1.6253e-01],\n",
      "          [ 1.9726e-01,  3.8814e-01,  7.8718e-01,  ...,  6.4631e-01,\n",
      "            6.2392e-01,  4.1654e-01],\n",
      "          [ 5.8205e-01,  5.4554e-01,  5.9636e-01,  ...,  6.6396e-01,\n",
      "            3.0573e-01,  6.7528e-01]],\n",
      "\n",
      "         [[ 3.0653e-02,  3.0312e-02, -1.1747e-01,  ...,  6.3781e-02,\n",
      "           -1.2136e-01,  1.7785e-02],\n",
      "          [ 5.8146e-02,  1.2106e-01,  1.0328e-01,  ...,  9.9473e-02,\n",
      "           -2.9025e-01, -1.1598e-01],\n",
      "          [-1.5367e-01, -8.4006e-02, -1.9545e-01,  ..., -2.8235e-01,\n",
      "           -2.2724e-01, -3.0585e-01],\n",
      "          ...,\n",
      "          [ 3.6164e-02, -3.6431e-01, -2.3255e-01,  ..., -2.1825e-01,\n",
      "           -1.6152e-01, -4.8030e-01],\n",
      "          [-1.7906e-01, -3.0356e-01, -1.7685e-01,  ..., -1.8266e-01,\n",
      "           -2.3824e-01, -2.1177e-01],\n",
      "          [ 8.4803e-02, -5.2212e-01, -4.4178e-01,  ..., -6.7678e-01,\n",
      "           -5.4245e-01, -4.4484e-01]],\n",
      "\n",
      "         [[-1.6122e-01, -4.7280e-01, -5.4668e-01,  ..., -8.5676e-02,\n",
      "            1.5490e-01,  5.3479e-02],\n",
      "          [-8.2444e-02,  1.5536e-01,  1.7796e-01,  ...,  2.3610e-01,\n",
      "            8.0980e-02, -6.1998e-02],\n",
      "          [-3.1689e-01,  2.9866e-01, -4.5142e-02,  ...,  1.2506e-01,\n",
      "            7.4986e-02,  4.0094e-02],\n",
      "          ...,\n",
      "          [-2.6140e-01,  1.1040e-01,  6.2661e-05,  ..., -2.3386e-01,\n",
      "           -4.2739e-01, -1.2805e-01],\n",
      "          [-3.9121e-02,  1.9476e-01,  5.1827e-01,  ...,  3.9841e-01,\n",
      "            2.7944e-01, -3.0546e-01],\n",
      "          [ 1.2094e-03, -4.9331e-01, -1.6054e-01,  ..., -2.5139e-01,\n",
      "           -5.2385e-01,  3.7450e-02]]],\n",
      "\n",
      "\n",
      "        [[[-5.6305e-01, -8.3266e-01, -5.5892e-01,  ..., -9.2905e-01,\n",
      "           -1.7245e-01, -6.3431e-01],\n",
      "          [-4.0405e-01, -7.9871e-01, -5.4839e-01,  ..., -4.4979e-01,\n",
      "           -6.9076e-01, -8.7409e-01],\n",
      "          [-5.0799e-02, -2.9489e-01, -1.3063e-01,  ..., -1.3031e-02,\n",
      "           -9.3519e-01, -5.3900e-01],\n",
      "          ...,\n",
      "          [-6.0251e-01, -1.0238e-01, -5.3253e-02,  ...,  7.3519e-01,\n",
      "           -1.2401e+00, -9.4143e-01],\n",
      "          [-2.0669e-01, -4.6724e-01, -9.0038e-01,  ...,  2.2852e-01,\n",
      "           -1.0929e+00, -4.1315e-01],\n",
      "          [-8.5978e-01, -1.2731e-01, -3.0476e-01,  ..., -2.8817e-01,\n",
      "           -3.0187e-01, -7.9952e-01]],\n",
      "\n",
      "         [[ 4.4848e-01,  2.5504e-01,  9.5760e-01,  ...,  1.1612e+00,\n",
      "            1.2172e+00,  1.1811e+00],\n",
      "          [ 6.5421e-01, -4.6140e-01,  4.0174e-01,  ...,  1.5481e+00,\n",
      "            1.2053e+00,  8.7173e-01],\n",
      "          [ 1.0429e+00,  1.2957e-01,  9.7479e-01,  ...,  1.1347e+00,\n",
      "            1.1267e+00,  2.2285e+00],\n",
      "          ...,\n",
      "          [ 1.0248e+00,  4.1567e-01,  1.0963e+00,  ...,  1.7251e+00,\n",
      "            5.3450e-02,  1.0502e+00],\n",
      "          [ 1.3921e+00,  5.0250e-01,  1.3039e+00,  ...,  1.1897e+00,\n",
      "            5.4558e-01,  1.5732e+00],\n",
      "          [ 9.2584e-01,  7.6920e-01,  1.4294e+00,  ...,  9.0270e-01,\n",
      "            5.5807e-01,  1.1662e+00]],\n",
      "\n",
      "         [[-2.1592e-01, -2.8705e-02, -4.7468e-01,  ..., -1.9928e-01,\n",
      "           -1.9565e-01,  1.7016e-01],\n",
      "          [-1.2021e-01, -1.7517e-02,  4.9055e-01,  ..., -4.0003e-01,\n",
      "           -6.1547e-01, -1.0265e-01],\n",
      "          [ 1.7446e-01,  6.1852e-01,  3.0377e-01,  ...,  5.7121e-01,\n",
      "           -5.6432e-01, -1.7602e-02],\n",
      "          ...,\n",
      "          [ 1.2507e-01,  1.4833e-02, -3.7704e-01,  ..., -7.1031e-01,\n",
      "            9.0969e-03, -3.6764e-01],\n",
      "          [-5.6138e-02,  1.2559e-01, -1.5726e-01,  ..., -2.3711e-01,\n",
      "            7.7613e-02, -8.6911e-01],\n",
      "          [-1.2836e-01, -6.7244e-01, -2.5274e-01,  ..., -9.1812e-01,\n",
      "           -7.1407e-01, -7.0168e-01]],\n",
      "\n",
      "         [[ 4.0694e-02, -8.2277e-02, -5.3681e-01,  ..., -2.1707e-01,\n",
      "            4.3658e-01,  5.6073e-02],\n",
      "          [-1.5409e-01, -3.8017e-01, -3.4468e-02,  ...,  1.0374e-02,\n",
      "           -8.0305e-02,  6.5858e-01],\n",
      "          [-8.0294e-02,  1.6363e-01,  2.8265e-01,  ...,  5.2509e-01,\n",
      "            2.9832e-01,  6.1731e-01],\n",
      "          ...,\n",
      "          [-8.2447e-02, -1.0427e-01,  3.2750e-01,  ..., -1.0981e-01,\n",
      "            6.1259e-01, -1.6831e-01],\n",
      "          [-2.1526e-02,  2.8413e-01,  4.1528e-01,  ...,  9.5590e-03,\n",
      "            5.9924e-01,  8.9454e-01],\n",
      "          [ 2.0356e-02, -6.9885e-01,  2.0853e-01,  ..., -4.2932e-01,\n",
      "           -3.3497e-01, -1.3310e-01]]],\n",
      "\n",
      "\n",
      "        [[[-5.5851e-01, -8.5429e-01, -6.4520e-01,  ..., -8.9437e-01,\n",
      "           -2.0778e-01, -5.8722e-01],\n",
      "          [-4.0377e-01, -7.4940e-01, -5.2426e-01,  ..., -3.8440e-01,\n",
      "           -6.6614e-01, -9.7550e-01],\n",
      "          [-8.3604e-02, -3.4645e-01, -2.8317e-01,  ...,  2.4426e-02,\n",
      "           -8.8958e-01, -3.2682e-01],\n",
      "          ...,\n",
      "          [-4.7581e-01, -5.2040e-02,  1.2265e-01,  ...,  6.7143e-01,\n",
      "           -1.1516e+00, -8.6614e-01],\n",
      "          [-1.3216e-01, -5.7448e-01, -5.5251e-01,  ...,  1.8053e-01,\n",
      "           -1.0569e+00, -3.2435e-01],\n",
      "          [-9.2719e-01, -4.1641e-01, -1.5896e-01,  ..., -3.9013e-01,\n",
      "           -3.6730e-01, -8.3980e-01]],\n",
      "\n",
      "         [[ 4.9846e-01,  2.3302e-01,  9.6286e-01,  ...,  1.1241e+00,\n",
      "            1.1986e+00,  1.2761e+00],\n",
      "          [ 6.8382e-01, -5.6757e-01,  4.9239e-01,  ...,  1.4788e+00,\n",
      "            1.1900e+00,  9.3924e-01],\n",
      "          [ 1.1146e+00,  6.8780e-02,  9.8773e-01,  ...,  1.1208e+00,\n",
      "            1.0024e+00,  2.0546e+00],\n",
      "          ...,\n",
      "          [ 9.0641e-01,  1.7682e-01,  1.4452e+00,  ...,  1.5264e+00,\n",
      "            8.0832e-02,  9.9243e-01],\n",
      "          [ 1.3095e+00,  5.4599e-01,  1.1814e+00,  ...,  1.2735e+00,\n",
      "            5.2026e-01,  1.5680e+00],\n",
      "          [ 1.0247e+00,  7.6494e-01,  1.6166e+00,  ...,  7.7801e-01,\n",
      "            5.1749e-01,  1.2063e+00]],\n",
      "\n",
      "         [[-2.4501e-01, -1.3625e-02, -4.4934e-01,  ..., -1.9952e-01,\n",
      "           -2.2734e-01,  2.6523e-01],\n",
      "          [-9.6432e-02, -3.9388e-02,  5.3439e-01,  ..., -3.9861e-01,\n",
      "           -8.0104e-01, -7.8580e-02],\n",
      "          [ 1.6339e-01,  6.4642e-01,  3.4712e-01,  ...,  5.3358e-01,\n",
      "           -5.5006e-01, -8.4414e-02],\n",
      "          ...,\n",
      "          [ 1.5212e-01, -8.6483e-02, -2.8745e-01,  ..., -4.9169e-01,\n",
      "            6.7061e-02, -4.7465e-01],\n",
      "          [ 1.5715e-02,  1.0595e-01, -1.9148e-01,  ..., -3.8616e-01,\n",
      "            8.9577e-02, -8.9493e-01],\n",
      "          [-5.6116e-02, -5.6854e-01, -4.2723e-01,  ..., -1.0128e+00,\n",
      "           -6.2577e-01, -7.2133e-01]],\n",
      "\n",
      "         [[ 4.3930e-02, -3.0346e-02, -4.7186e-01,  ..., -2.0271e-01,\n",
      "            4.6911e-01,  4.0228e-02],\n",
      "          [-1.1841e-01, -3.9368e-01, -2.0686e-02,  ...,  1.3156e-01,\n",
      "           -1.3541e-01,  6.9990e-01],\n",
      "          [-5.6417e-02,  1.2667e-01,  3.7874e-01,  ...,  5.2424e-01,\n",
      "            3.1262e-01,  5.9281e-01],\n",
      "          ...,\n",
      "          [-2.6217e-01, -2.5114e-01,  1.6560e-01,  ..., -5.6331e-02,\n",
      "            5.9555e-01, -3.5581e-02],\n",
      "          [-1.2133e-01,  3.1764e-01,  1.7421e-01,  ...,  3.9156e-02,\n",
      "            6.5201e-01,  8.9313e-01],\n",
      "          [-4.4761e-02, -6.4119e-01,  1.7585e-02,  ..., -4.4723e-01,\n",
      "           -4.8292e-01, -9.6518e-02]]]], grad_fn=<UpsampleNearest2DBackward1>)\n"
     ]
    }
   ],
   "source": [
    "print(pred)"
   ]
  },
  {
   "cell_type": "code",
   "execution_count": 15,
   "metadata": {},
   "outputs": [],
   "source": [
    "import torch\n",
    "x = torch.randn(4,3,224,224)\n",
    "tgt = torch.randint(0,4,(4,224,224)).long()\n",
    "out = unet(x)"
   ]
  },
  {
   "cell_type": "code",
   "execution_count": 16,
   "metadata": {},
   "outputs": [],
   "source": [
    "loss, coef = criterion(out, tgt)"
   ]
  },
  {
   "cell_type": "code",
   "execution_count": 17,
   "metadata": {},
   "outputs": [
    {
     "data": {
      "text/plain": [
       "tensor(0.7554)"
      ]
     },
     "execution_count": 17,
     "metadata": {},
     "output_type": "execute_result"
    }
   ],
   "source": [
    "loss"
   ]
  },
  {
   "cell_type": "code",
   "execution_count": 21,
   "metadata": {},
   "outputs": [
    {
     "data": {
      "text/plain": [
       "tensor(0.7554, requires_grad=True)"
      ]
     },
     "execution_count": 21,
     "metadata": {},
     "output_type": "execute_result"
    }
   ],
   "source": [
    "loss.requires_grad_(True)"
   ]
  },
  {
   "cell_type": "code",
   "execution_count": 22,
   "metadata": {},
   "outputs": [],
   "source": [
    "loss.backward()\n",
    "#! 왜 안돼!!!!!!!!!!!!!!!!!!!!!!!!!!!!!!!!!!!!!!!!!!!"
   ]
  },
  {
   "cell_type": "code",
   "execution_count": 20,
   "metadata": {},
   "outputs": [
    {
     "data": {
      "text/plain": [
       "'1.12.1'"
      ]
     },
     "execution_count": 20,
     "metadata": {},
     "output_type": "execute_result"
    }
   ],
   "source": [
    "torch.__version__"
   ]
  },
  {
   "cell_type": "code",
   "execution_count": null,
   "metadata": {},
   "outputs": [],
   "source": []
  }
 ],
 "metadata": {
  "kernelspec": {
   "display_name": "pytorch",
   "language": "python",
   "name": "python3"
  },
  "language_info": {
   "codemirror_mode": {
    "name": "ipython",
    "version": 3
   },
   "file_extension": ".py",
   "mimetype": "text/x-python",
   "name": "python",
   "nbconvert_exporter": "python",
   "pygments_lexer": "ipython3",
   "version": "3.8.13"
  },
  "orig_nbformat": 4
 },
 "nbformat": 4,
 "nbformat_minor": 2
}
